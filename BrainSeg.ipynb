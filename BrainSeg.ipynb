{
 "cells": [
  {
   "cell_type": "markdown",
   "metadata": {},
   "source": [
    "# Generative Medical Image Segmentation"
   ]
  },
  {
   "cell_type": "code",
   "execution_count": 89,
   "metadata": {},
   "outputs": [],
   "source": [
    "import numpy as np\n",
    "import pandas as pd\n",
    "import os\n",
    "\n",
    "import matplotlib.pyplot as plt\n",
    "import seaborn as sns\n",
    "\n",
    "plt.style.use(\"dark_background\")\n",
    "sns.set_style(\"darkgrid\")"
   ]
  },
  {
   "cell_type": "code",
   "execution_count": 64,
   "metadata": {},
   "outputs": [
    {
     "name": "stdout",
     "output_type": "stream",
     "text": [
      "This is not an image folder: data/data.csv\n",
      "This is not an image folder: data/README.md\n"
     ]
    }
   ],
   "source": [
    "# --- LOAD DATA ---\n",
    "data_path = \"data/\" # Path to the data folder\n",
    "\n",
    "# Define the number of images \n",
    "\n",
    "BASE_LEN = 89\n",
    "END_LEN = 4 \n",
    "END_MASK_LEN = 9\n",
    "\n",
    "# Define image size\n",
    "IMG_SIZE = 512\n",
    "\n",
    "\n",
    "# Define image paths\n",
    "data = []\n",
    "\n",
    "for dir_ in os.listdir(data_path):\n",
    "    dir_path = os.path.join(data_path, dir_)\n",
    "    if os.path.isdir(dir_path):\n",
    "        for filename in os.listdir(dir_path):\n",
    "            img_path = os.path.join(dir_path, filename)\n",
    "            data.append([dir_, img_path])\n",
    "    else:\n",
    "        print(f\"This is not an image folder: {dir_path}\")\n"
   ]
  },
  {
   "cell_type": "code",
   "execution_count": null,
   "metadata": {},
   "outputs": [
    {
     "name": "stdout",
     "output_type": "stream",
     "text": [
      "                                          image_path  \\\n",
      "0  data/TCGA_CS_6667_20011105/TCGA_CS_6667_200111...   \n",
      "1  data/TCGA_DU_8164_19970111/TCGA_DU_8164_199701...   \n",
      "2  data/TCGA_DU_8168_19970503/TCGA_DU_8168_199705...   \n",
      "3  data/TCGA_DU_7300_19910814/TCGA_DU_7300_199108...   \n",
      "4  data/TCGA_HT_7475_19970918/TCGA_HT_7475_199709...   \n",
      "\n",
      "                                           mask_path  \n",
      "0  data/TCGA_CS_6667_20011105/TCGA_CS_6667_200111...  \n",
      "1  data/TCGA_DU_8164_19970111/TCGA_DU_8164_199701...  \n",
      "2  data/TCGA_DU_8168_19970503/TCGA_DU_8168_199705...  \n",
      "3  data/TCGA_DU_7300_19910814/TCGA_DU_7300_199108...  \n",
      "4  data/TCGA_HT_7475_19970918/TCGA_HT_7475_199709...  \n"
     ]
    }
   ],
   "source": [
    "# --- Create image and mask paths ---\n",
    "df = pd.DataFrame(data, columns=[\"dir_name\", \"image_path\"])\n",
    "\n",
    "df_imgs = df[~df[\"image_path\"].str.contains(\"mask\")]\n",
    "df_masks = df[df[\"image_path\"].str.contains(\"mask\")]\n",
    "\n",
    "imgs = sorted(df_imgs[\"image_path\"].values, key = lambda x: int(x.split(\"_\")[-1].split(\".\")[0]))\n",
    "masks = sorted(df_masks[\"image_path\"].values, key = lambda x: int(x.split(\"_\")[-2]))\n",
    "\n",
    "# --- Create final dataframe ---\n",
    "df_final = pd.DataFrame()\n",
    "df_final[\"image_path\"] = imgs\n",
    "df_final[\"mask_path\"] = masks\n",
    "\n"
   ]
  }
 ],
 "metadata": {
  "kernelspec": {
   "display_name": "MBML",
   "language": "python",
   "name": "python3"
  },
  "language_info": {
   "codemirror_mode": {
    "name": "ipython",
    "version": 3
   },
   "file_extension": ".py",
   "mimetype": "text/x-python",
   "name": "python",
   "nbconvert_exporter": "python",
   "pygments_lexer": "ipython3",
   "version": "3.12.0"
  }
 },
 "nbformat": 4,
 "nbformat_minor": 2
}
