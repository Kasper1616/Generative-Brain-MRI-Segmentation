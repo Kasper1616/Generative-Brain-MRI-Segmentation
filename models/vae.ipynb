{
 "cells": [
  {
   "cell_type": "markdown",
   "metadata": {},
   "source": [
    "# Generative Medical Image Segmentation"
   ]
  },
  {
   "cell_type": "code",
   "execution_count": 1,
   "metadata": {},
   "outputs": [
    {
     "name": "stderr",
     "output_type": "stream",
     "text": [
      "/opt/homebrew/Caskroom/miniconda/base/envs/MBML/lib/python3.12/site-packages/tqdm/auto.py:21: TqdmWarning: IProgress not found. Please update jupyter and ipywidgets. See https://ipywidgets.readthedocs.io/en/stable/user_install.html\n",
      "  from .autonotebook import tqdm as notebook_tqdm\n"
     ]
    }
   ],
   "source": [
    "# --- Import Libraries ---\n",
    "import matplotlib.pyplot as plt\n",
    "import pyro\n",
    "import pyro.distributions as dist\n",
    "import seaborn as sns\n",
    "import torch\n",
    "from pyro.infer import SVI, Trace_ELBO\n",
    "from pyro.optim import Adam\n",
    "from torch import nn\n",
    "import sys\n",
    "import os\n",
    "\n",
    "sys.path.append(os.path.join(os.getcwd(), \"..\"))\n",
    "\n",
    "from scripts.data import get_loaders\n",
    "from scripts.funcs import run_model, print_losses\n",
    "\n",
    "# Define device\n",
    "device = \"cuda\" if torch.cuda.is_available() else \"mps\" if torch.backends.mps.is_available() else \"cpu\"\n",
    "\n",
    "\n",
    "# --- Set Plot Style ---\n",
    "sns.set_style(\"dark\")\n",
    "plt.style.use(\"dark_background\")\n",
    "\n",
    "\n",
    "# --- Define Parameters ---\n",
    "BATCH_SIZE = 64\n",
    "IMG_SIZE = 32\n",
    "NUM_WORKERS = 0\n"
   ]
  },
  {
   "cell_type": "markdown",
   "metadata": {},
   "source": [
    "### Define Dataloaders"
   ]
  },
  {
   "cell_type": "code",
   "execution_count": 2,
   "metadata": {},
   "outputs": [
    {
     "name": "stdout",
     "output_type": "stream",
     "text": [
      "Train set size: 3536\n",
      "Test set size: 393\n"
     ]
    }
   ],
   "source": [
    "train_loader, test_loader = get_loaders(\"../data/\", batch_size=BATCH_SIZE, img_size=IMG_SIZE, num_workers=NUM_WORKERS)"
   ]
  },
  {
   "cell_type": "markdown",
   "metadata": {},
   "source": [
    "### Define Model"
   ]
  },
  {
   "cell_type": "code",
   "execution_count": 3,
   "metadata": {},
   "outputs": [],
   "source": [
    "def double_conv(in_channels, out_channels):\n",
    "    return nn.Sequential(\n",
    "        nn.Conv2d(in_channels, out_channels, 3, padding=1),\n",
    "        nn.ReLU(inplace=True),\n",
    "        nn.Conv2d(out_channels, out_channels, 3, padding=1),\n",
    "        nn.ReLU(inplace=True))\n",
    "\n",
    "class Encoder(nn.Module):                       # shared features\n",
    "    def __init__(self, z_dim=64):\n",
    "        super().__init__()\n",
    "        self.enc1 = double_conv(3,   16)\n",
    "        self.enc2 = double_conv(16,  32)\n",
    "        self.enc3 = double_conv(32,  64)\n",
    "        self.enc4 = double_conv(64, 128)\n",
    "        self.to_stats = nn.Sequential(           \n",
    "            nn.Conv2d(128, 2*z_dim, 1),\n",
    "            nn.AdaptiveAvgPool2d(1))\n",
    "         \n",
    "        self.pool = nn.MaxPool2d(2)\n",
    "\n",
    "    def forward(self, x):\n",
    "        x1 = self.enc1(x)\n",
    "        x2 = self.enc2(self.pool(x1))\n",
    "        x3 = self.enc3(self.pool(x2))\n",
    "        x4 = self.enc4(self.pool(x3))\n",
    "        x5 = self.to_stats(x4).flatten(1)\n",
    "        mu, log_sig = x5.chunk(2, dim=-1)\n",
    "\n",
    "        return mu, torch.exp(log_sig)\n",
    "    \n",
    "class Decoder(nn.Module):\n",
    "    \n",
    "    def __init__(self, z_dim=64, start_ch=128, img_size=32):\n",
    "        super().__init__()\n",
    "        self.img_size = img_size\n",
    "        fsz = img_size // 16                             \n",
    "        self.fc = nn.Linear(z_dim, start_ch * fsz * fsz)\n",
    "\n",
    "        self.up1 = double_conv(start_ch, 128)\n",
    "        self.up2 = double_conv(128,  64)\n",
    "        self.up3 = double_conv(64,   32)\n",
    "        self.up4 = double_conv(32,   16)\n",
    "\n",
    "        self.upsample = nn.Upsample(scale_factor=2, mode=\"bilinear\",\n",
    "                                    align_corners=False)\n",
    "        \n",
    "        self.out_conv = nn.Conv2d(16, 1, 1)      \n",
    "\n",
    "    def forward(self, z):\n",
    "        B = z.size(0)\n",
    "        fsz = self.img_size // 16\n",
    "        x = self.fc(z).view(B, 128, fsz, fsz)\n",
    "\n",
    "        x = self.up1(x)\n",
    "        x = self.upsample(x)   \n",
    "        x = self.up2(x) \n",
    "        x = self.upsample(x)   \n",
    "        x = self.up3(x) \n",
    "        x = self.upsample(x)   \n",
    "        x = self.up4(x) \n",
    "        x = self.upsample(x)  \n",
    "        return torch.sigmoid(self.out_conv(x))          \n",
    "\n",
    "                        "
   ]
  },
  {
   "cell_type": "markdown",
   "metadata": {},
   "source": [
    "### Define VAE"
   ]
  },
  {
   "cell_type": "code",
   "execution_count": 4,
   "metadata": {},
   "outputs": [],
   "source": [
    "# --- Define VAE ---\n",
    "class VAE(nn.Module):\n",
    "    def __init__(self, z_dim=6, input_dim=IMG_SIZE*IMG_SIZE*3):\n",
    "        self.input_dim = input_dim\n",
    "        self.output_dim = IMG_SIZE\n",
    "        super().__init__()\n",
    "\n",
    "        # Define the encoder and decoder networks\n",
    "        self.encoder = Encoder(z_dim)\n",
    "        self.decoder = Decoder(z_dim, img_size=self.output_dim)\n",
    "        self.z_dim = z_dim\n",
    "\n",
    "    # Define the model p(y|z)p(z)\n",
    "    def model(self, x, y=None):\n",
    "        pyro.module(\"decoder\", self.decoder)\n",
    "        batch_size = x.size(0)\n",
    "        with pyro.plate(\"data\", batch_size):\n",
    "\n",
    "            # setup hyperparameters for prior p(z)\n",
    "            z_loc = torch.zeros(x.shape[0], self.z_dim, dtype=x.dtype, device=device)\n",
    "            z_scale = torch.ones(x.shape[0], self.z_dim, dtype=x.dtype, device=device)\n",
    "\n",
    "            # sample from prior\n",
    "            z = pyro.sample(\"latent\", dist.Normal(z_loc, z_scale).to_event(1))\n",
    "\n",
    "            # decode the latent code z\n",
    "            yhat = self.decoder.forward(z)\n",
    "\n",
    "            if y is not None:\n",
    "                pyro.sample(\"obs\", \n",
    "                        dist.Bernoulli(yhat, validate_args=False).to_event(3), \n",
    "                        obs=y,)\n",
    "            else:\n",
    "                pyro.deterministic('obs', yhat.detach())\n",
    "\n",
    "            return yhat\n",
    "\n",
    "    # Define the guide (i.e. variational distribution) q(z|x)\n",
    "    def guide(self, x, y=None):\n",
    "        # use the encoder to get the parameters used to define q(z|x)\n",
    "        pyro.module(\"encoder\", self.encoder)\n",
    "        batch_size = x.size(0)\n",
    "        with pyro.plate(\"data\", batch_size):\n",
    "\n",
    "            # use the encoder to get the parameters used to define q(z|x)\n",
    "            z_loc, z_scale = self.encoder.forward(x)\n",
    "\n",
    "            # sample the latent code z\n",
    "            pyro.sample(\"latent\", dist.Normal(z_loc, z_scale).to_event(1))"
   ]
  },
  {
   "cell_type": "markdown",
   "metadata": {},
   "source": [
    "### Test forward paas"
   ]
  },
  {
   "cell_type": "code",
   "execution_count": 5,
   "metadata": {},
   "outputs": [
    {
     "name": "stdout",
     "output_type": "stream",
     "text": [
      "torch.Size([1, 1, 32, 32])\n"
     ]
    }
   ],
   "source": [
    "vae = VAE().to(device)\n",
    "output = vae.model(torch.randn(1, 3, IMG_SIZE, IMG_SIZE).to(device))\n",
    "print(output.shape)"
   ]
  },
  {
   "cell_type": "markdown",
   "metadata": {},
   "source": [
    "### Run training"
   ]
  },
  {
   "cell_type": "code",
   "execution_count": 9,
   "metadata": {},
   "outputs": [
    {
     "name": "stdout",
     "output_type": "stream",
     "text": [
      "[Epoch 1]\n",
      "Mean train loss: 761.4369\n",
      "Mean test loss: 736.9381\n",
      "\n",
      "[Epoch 2]\n",
      "Mean train loss: 294.6685\n",
      "\n",
      "[Epoch 3]\n",
      "Mean train loss: 107.5558\n",
      "\n",
      "[Epoch 4]\n",
      "Mean train loss: 77.1540\n",
      "\n",
      "[Epoch 5]\n",
      "Mean train loss: 50.3489\n",
      "\n",
      "[Epoch 6]\n",
      "Mean train loss: 47.2682\n",
      "\n",
      "[Epoch 7]\n",
      "Mean train loss: 46.8692\n",
      "\n",
      "[Epoch 8]\n",
      "Mean train loss: 46.6436\n",
      "\n",
      "[Epoch 9]\n",
      "Mean train loss: 46.5656\n",
      "\n",
      "[Epoch 10]\n",
      "Mean train loss: 46.3595\n",
      "\n"
     ]
    }
   ],
   "source": [
    "# --- Training the VAE ---\n",
    "num_epochs = 10\n",
    "test_frequency = 10\n",
    "lr = 9e-5\n",
    "\n",
    "vae = VAE(z_dim=24, input_dim=IMG_SIZE*IMG_SIZE*3)\n",
    "\n",
    "# setup the optimizer\n",
    "optimizer = Adam({\"lr\": lr})\n",
    "svi = SVI(vae.model, vae.guide, optimizer, loss=Trace_ELBO())\n",
    "\n",
    "vae = run_model(vae, svi, train_loader, test_loader, num_epochs=num_epochs, test_frequency=test_frequency, device=device)"
   ]
  },
  {
   "cell_type": "code",
   "execution_count": 13,
   "metadata": {},
   "outputs": [
    {
     "name": "stdout",
     "output_type": "stream",
     "text": [
      "BCE loss:\n",
      "0.04\n",
      "\n",
      "Average DICE score:\n",
      "0.66\n",
      "\n",
      "ELBO loss:\n",
      "41.97472872746203\n"
     ]
    }
   ],
   "source": [
    "# Model evaluation\n",
    "vae.eval()\n",
    "with torch.no_grad():\n",
    "    print_losses(test_loader, vae, device)"
   ]
  },
  {
   "cell_type": "code",
   "execution_count": 52,
   "metadata": {},
   "outputs": [
    {
     "data": {
      "image/png": "[encoded data removed]",
      "text/plain": [
       "<Figure size 1000x1000 with 15 Axes>"
      ]
     },
     "metadata": {},
     "output_type": "display_data"
    }
   ],
   "source": [
    "# Visualize the model predictions\n",
    "def visualize_predictions(model, dataloader, num_images=5):\n",
    "    model.eval()\n",
    "    with torch.no_grad():\n",
    "        images, labels = next(iter(dataloader))\n",
    "        images = images.to(device)\n",
    "        labels = labels.to(device)\n",
    "        outputs = vae.decoder(vae.encoder(images)[0]) > 0.09\n",
    "        images = images.cpu().numpy()\n",
    "        labels = labels.cpu().numpy()\n",
    "        outputs = outputs.cpu().numpy()\n",
    "        fig, axes = plt.subplots(3, num_images, figsize=(10, 10))\n",
    "        for i in range(num_images):\n",
    "            axes[0, i].imshow(images[i].transpose(1, 2, 0))\n",
    "            axes[0, i].set_title(\"Input Image\")\n",
    "            axes[1, i].imshow(labels[i].squeeze(), cmap='gray')\n",
    "            axes[1, i].set_title(\"Ground Truth\")\n",
    "            axes[2, i].imshow(outputs[i].squeeze(), cmap='gray')\n",
    "            axes[2, i].set_title(\"Predicted Mask\")\n",
    "\n",
    "\n",
    "visualize_predictions(vae, test_loader)"
   ]
  }
 ],
 "metadata": {
  "kernelspec": {
   "display_name": "MBML",
   "language": "python",
   "name": "python3"
  },
  "language_info": {
   "codemirror_mode": {
    "name": "ipython",
    "version": 3
   },
   "file_extension": ".py",
   "mimetype": "text/x-python",
   "name": "python",
   "nbconvert_exporter": "python",
   "pygments_lexer": "ipython3",
   "version": "3.12.0"
  }
 },
 "nbformat": 4,
 "nbformat_minor": 2
}
